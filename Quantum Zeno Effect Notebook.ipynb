{
 "cells": [
  {
   "cell_type": "code",
   "execution_count": 2,
   "metadata": {},
   "outputs": [],
   "source": [
    "from qiskit import *\n",
    "%matplotlib inline\n",
    "import numpy as np"
   ]
  },
  {
   "cell_type": "code",
   "execution_count": 11,
   "metadata": {},
   "outputs": [
    {
     "name": "stdout",
     "output_type": "stream",
     "text": [
      "Theoretical Prediction percent photons in |1>: 0.9999999999999999\n"
     ]
    }
   ],
   "source": [
    "#Let's take a set of N beamsplitters, each with a reflectivity of R = cos^2(pi/(2N))\n",
    "#If we line them up, we'll get statistics that look quite a bit like an X gate with\n",
    "#one pathway of light being the |0> state and the other being |1>. The |0> state just\n",
    "#means that the photons went straight through the beamsplitters without veering off \n",
    "#onto the new path. The |1> state means the photon went off on the new path.\n",
    "N = 10 #number of beamsplitters\n",
    "theta = np.pi/N\n",
    "nphotons = 10**6\n",
    "backend = Aer.get_backend('qasm_simulator')\n",
    "\n",
    "q = QuantumRegister(1)\n",
    "c = ClassicalRegister(1)\n",
    "circuit = QuantumCircuit(q,c)\n",
    "for i in range(N):\n",
    "    circuit.rx(theta, q[0])\n",
    "circuit.measure(q[0], c[0])\n",
    "result = execute(circuit, backend=backend, shots = nphotons).result()\n",
    "counts = result.get_counts()\n",
    "# ntrans = counts.get(endstate)\n",
    "print('Theoretical Prediction percent photons in |1>:', 1-(np.sin(theta/2)**2)**N)"
   ]
  },
  {
   "cell_type": "code",
   "execution_count": 9,
   "metadata": {},
   "outputs": [
    {
     "data": {
      "text/plain": [
       "{'1': 1000000}"
      ]
     },
     "execution_count": 9,
     "metadata": {},
     "output_type": "execute_result"
    }
   ],
   "source": [
    "counts"
   ]
  },
  {
   "cell_type": "code",
   "execution_count": 166,
   "metadata": {},
   "outputs": [
    {
     "name": "stdout",
     "output_type": "stream",
     "text": [
      "Number photons transmitted: 780760\n",
      "Percent photons transmitted: 0.78076\n",
      "Theoretical Prediction percent photons transmitted: 0.7805460697811405\n"
     ]
    }
   ],
   "source": [
    "#Let's put an object in the way of the beamsplitters, such that if a photon does cross over,\n",
    "#it is absorbed by the object:\n",
    "N = 10 #number of beamsplitters\n",
    "theta = np.pi/(N) # A measure of the reflectivity of the beamsplitter\n",
    "nphotons = 10**6 #The number of photons we'll send through the system\n",
    "endstate = '0'*N #Now if there is an object blocking the photon's upper path, we require that\n",
    "                #ALL photons stay on the bottom path in order to be detected, if not, we know\n",
    "                #that the object was hit by a photon somewhere along the path\n",
    "\n",
    "q = QuantumRegister(1)\n",
    "c = ClassicalRegister(N)\n",
    "circuit = QuantumCircuit(q,c)\n",
    "for i in range(N):\n",
    "    circuit.rx(theta, q[0])\n",
    "    circuit.measure(q[0], c[i])\n",
    "result = execute(circuit, backend=backend, shots = nphotons).result()\n",
    "counts = result.get_counts()\n",
    "ntrans = counts.get(endstate)\n",
    "\n",
    "\n",
    "\n",
    "print('Number photons transmitted:', ntrans)\n",
    "print('Percent photons transmitted:', ntrans/nphotons)\n",
    "print('Theoretical Prediction percent photons transmitted:', (np.cos(theta/2)**2)**N)"
   ]
  },
  {
   "cell_type": "code",
   "execution_count": 154,
   "metadata": {},
   "outputs": [
    {
     "data": {
      "text/plain": [
       "{'1111110011': 2,\n",
       " '1000010000': 2,\n",
       " '1111000100': 1,\n",
       " '0111111110': 40,\n",
       " '1100000110': 1,\n",
       " '0000011111': 51,\n",
       " '1011110000': 1,\n",
       " '0011111111': 43,\n",
       " '1110111100': 2,\n",
       " '1110111110': 2,\n",
       " '1111111000': 5894,\n",
       " '0111110000': 43,\n",
       " '0010000000': 40,\n",
       " '1000000000': 5965,\n",
       " '0000001110': 34,\n",
       " '1001000000': 2,\n",
       " '0011100000': 35,\n",
       " '0000111000': 24,\n",
       " '1111111101': 1,\n",
       " '0000001100': 36,\n",
       " '0110000000': 50,\n",
       " '0000111100': 38,\n",
       " '1100000011': 1,\n",
       " '0001110000': 39,\n",
       " '1000111100': 1,\n",
       " '0000000001': 41,\n",
       " '0111111000': 39,\n",
       " '0100000000': 32,\n",
       " '1100011100': 1,\n",
       " '1100000111': 1,\n",
       " '0011111110': 38,\n",
       " '0111111111': 35,\n",
       " '0000000010': 38,\n",
       " '1000111000': 1,\n",
       " '0000100000': 40,\n",
       " '0000111110': 38,\n",
       " '1111111111': 5693,\n",
       " '1111110000': 5731,\n",
       " '0011000000': 41,\n",
       " '0001000000': 35,\n",
       " '0001100000': 34,\n",
       " '1111111110': 5785,\n",
       " '0000010000': 33,\n",
       " '1001100000': 1,\n",
       " '1111110111': 1,\n",
       " '0001111110': 29,\n",
       " '1111000111': 1,\n",
       " '1000111111': 1,\n",
       " '1111000000': 5999,\n",
       " '0011111100': 25,\n",
       " '0011111000': 46,\n",
       " '0001111000': 28,\n",
       " '1111111100': 5729,\n",
       " '1001111000': 1,\n",
       " '0001111111': 34,\n",
       " '0000011110': 40,\n",
       " '0000011000': 50,\n",
       " '1111100000': 5887,\n",
       " '0000001000': 32,\n",
       " '1110000000': 5868,\n",
       " '0000001111': 38,\n",
       " '0011110000': 29,\n",
       " '0000000000': 939815,\n",
       " '0001111100': 48,\n",
       " '0111000000': 34,\n",
       " '1100000000': 5927,\n",
       " '0000000111': 43,\n",
       " '0000110000': 40,\n",
       " '0000000011': 41,\n",
       " '0000011100': 30,\n",
       " '0111100000': 39,\n",
       " '0000000100': 26,\n",
       " '1101111110': 1,\n",
       " '0000111111': 34,\n",
       " '0000000110': 45,\n",
       " '0111111100': 33,\n",
       " '1100110000': 1}"
      ]
     },
     "execution_count": 154,
     "metadata": {},
     "output_type": "execute_result"
    }
   ],
   "source": [
    "counts"
   ]
  },
  {
   "cell_type": "code",
   "execution_count": 167,
   "metadata": {},
   "outputs": [
    {
     "data": {
      "text/html": [
       "<pre style=\"word-wrap: normal;white-space: pre;background: #fff0;line-height: 1.1;font-family: &quot;Courier New&quot;,Courier,monospace\">             ┌───────────┐┌─┐┌───────────┐┌─┐┌───────────┐┌─┐┌───────────┐┌─┐»\n",
       "q13056_0: |0>┤ Rx(pi/10) ├┤M├┤ Rx(pi/10) ├┤M├┤ Rx(pi/10) ├┤M├┤ Rx(pi/10) ├┤M├»\n",
       "             └───────────┘└╥┘└───────────┘└╥┘└───────────┘└╥┘└───────────┘└╥┘»\n",
       " c13056_0: 0 ══════════════╩═══════════════╬═══════════════╬═══════════════╬═»\n",
       "                                           ║               ║               ║ »\n",
       " c13056_1: 0 ══════════════════════════════╩═══════════════╬═══════════════╬═»\n",
       "                                                           ║               ║ »\n",
       " c13056_2: 0 ══════════════════════════════════════════════╩═══════════════╬═»\n",
       "                                                                           ║ »\n",
       " c13056_3: 0 ══════════════════════════════════════════════════════════════╩═»\n",
       "                                                                             »\n",
       " c13056_4: 0 ════════════════════════════════════════════════════════════════»\n",
       "                                                                             »\n",
       " c13056_5: 0 ════════════════════════════════════════════════════════════════»\n",
       "                                                                             »\n",
       " c13056_6: 0 ════════════════════════════════════════════════════════════════»\n",
       "                                                                             »\n",
       " c13056_7: 0 ════════════════════════════════════════════════════════════════»\n",
       "                                                                             »\n",
       " c13056_8: 0 ════════════════════════════════════════════════════════════════»\n",
       "                                                                             »\n",
       " c13056_9: 0 ════════════════════════════════════════════════════════════════»\n",
       "                                                                             »\n",
       "«          ┌───────────┐┌─┐┌───────────┐┌─┐┌───────────┐┌─┐┌───────────┐┌─┐»\n",
       "«q13056_0: ┤ Rx(pi/10) ├┤M├┤ Rx(pi/10) ├┤M├┤ Rx(pi/10) ├┤M├┤ Rx(pi/10) ├┤M├»\n",
       "«          └───────────┘└╥┘└───────────┘└╥┘└───────────┘└╥┘└───────────┘└╥┘»\n",
       "«c13056_0: ══════════════╬═══════════════╬═══════════════╬═══════════════╬═»\n",
       "«                        ║               ║               ║               ║ »\n",
       "«c13056_1: ══════════════╬═══════════════╬═══════════════╬═══════════════╬═»\n",
       "«                        ║               ║               ║               ║ »\n",
       "«c13056_2: ══════════════╬═══════════════╬═══════════════╬═══════════════╬═»\n",
       "«                        ║               ║               ║               ║ »\n",
       "«c13056_3: ══════════════╬═══════════════╬═══════════════╬═══════════════╬═»\n",
       "«                        ║               ║               ║               ║ »\n",
       "«c13056_4: ══════════════╩═══════════════╬═══════════════╬═══════════════╬═»\n",
       "«                                        ║               ║               ║ »\n",
       "«c13056_5: ══════════════════════════════╩═══════════════╬═══════════════╬═»\n",
       "«                                                        ║               ║ »\n",
       "«c13056_6: ══════════════════════════════════════════════╩═══════════════╬═»\n",
       "«                                                                        ║ »\n",
       "«c13056_7: ══════════════════════════════════════════════════════════════╩═»\n",
       "«                                                                          »\n",
       "«c13056_8: ════════════════════════════════════════════════════════════════»\n",
       "«                                                                          »\n",
       "«c13056_9: ════════════════════════════════════════════════════════════════»\n",
       "«                                                                          »\n",
       "«          ┌───────────┐┌─┐┌───────────┐┌─┐\n",
       "«q13056_0: ┤ Rx(pi/10) ├┤M├┤ Rx(pi/10) ├┤M├\n",
       "«          └───────────┘└╥┘└───────────┘└╥┘\n",
       "«c13056_0: ══════════════╬═══════════════╬═\n",
       "«                        ║               ║ \n",
       "«c13056_1: ══════════════╬═══════════════╬═\n",
       "«                        ║               ║ \n",
       "«c13056_2: ══════════════╬═══════════════╬═\n",
       "«                        ║               ║ \n",
       "«c13056_3: ══════════════╬═══════════════╬═\n",
       "«                        ║               ║ \n",
       "«c13056_4: ══════════════╬═══════════════╬═\n",
       "«                        ║               ║ \n",
       "«c13056_5: ══════════════╬═══════════════╬═\n",
       "«                        ║               ║ \n",
       "«c13056_6: ══════════════╬═══════════════╬═\n",
       "«                        ║               ║ \n",
       "«c13056_7: ══════════════╬═══════════════╬═\n",
       "«                        ║               ║ \n",
       "«c13056_8: ══════════════╩═══════════════╬═\n",
       "«                                        ║ \n",
       "«c13056_9: ══════════════════════════════╩═\n",
       "«                                          </pre>"
      ],
      "text/plain": [
       "<qiskit.visualization.text.TextDrawing at 0x1f04917e588>"
      ]
     },
     "execution_count": 167,
     "metadata": {},
     "output_type": "execute_result"
    }
   ],
   "source": [
    "circuit.draw()"
   ]
  },
  {
   "cell_type": "code",
   "execution_count": null,
   "metadata": {},
   "outputs": [],
   "source": []
  }
 ],
 "metadata": {
  "kernelspec": {
   "display_name": "Python 3",
   "language": "python",
   "name": "python3"
  },
  "language_info": {
   "codemirror_mode": {
    "name": "ipython",
    "version": 3
   },
   "file_extension": ".py",
   "mimetype": "text/x-python",
   "name": "python",
   "nbconvert_exporter": "python",
   "pygments_lexer": "ipython3",
   "version": "3.7.3"
  }
 },
 "nbformat": 4,
 "nbformat_minor": 2
}

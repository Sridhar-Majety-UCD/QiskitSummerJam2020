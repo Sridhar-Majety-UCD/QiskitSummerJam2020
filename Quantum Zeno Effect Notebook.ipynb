{
 "cells": [
  {
   "cell_type": "code",
   "execution_count": 1,
   "metadata": {},
   "outputs": [],
   "source": [
    "from qiskit import *\n",
    "%matplotlib inline\n",
    "import numpy as np"
   ]
  },
  {
   "cell_type": "code",
   "execution_count": 2,
   "metadata": {},
   "outputs": [
    {
     "name": "stdout",
     "output_type": "stream",
     "text": [
      "Theoretical Prediction percent photons in |1>: 0.9999999999999999\n"
     ]
    }
   ],
   "source": [
    "#Let's take a set of N beamsplitters, each with a reflectivity of R = cos^2(pi/(2N))\n",
    "#If we line them up, we'll get statistics that look quite a bit like an X gate with\n",
    "#one pathway of light being the |0> state and the other being |1>. The |0> state just\n",
    "#means that the photons went straight through the beamsplitters without veering off \n",
    "#onto the new path. The |1> state means the photon went off on the new path.\n",
    "N = 10 #number of beamsplitters\n",
    "theta = np.pi/N\n",
    "nphotons = 10\n",
    "backend = Aer.get_backend('qasm_simulator')\n",
    "\n",
    "q = QuantumRegister(1)\n",
    "c = ClassicalRegister(1)\n",
    "circuit = QuantumCircuit(q,c)\n",
    "for i in range(N):\n",
    "    circuit.rx(theta, q[0])\n",
    "circuit.measure(q[0], c[0])\n",
    "result = execute(circuit, backend=backend, shots = nphotons).result()\n",
    "counts = result.get_counts()\n",
    "# ntrans = counts.get(endstate)\n",
    "print('Theoretical Prediction percent photons in |1>:', 1-(np.sin(theta/2)**2)**N)"
   ]
  },
  {
   "cell_type": "code",
   "execution_count": 15,
   "metadata": {},
   "outputs": [
    {
     "data": {
      "text/plain": [
       "{'1': 10}"
      ]
     },
     "execution_count": 15,
     "metadata": {},
     "output_type": "execute_result"
    }
   ],
   "source": [
    "counts"
   ]
  },
  {
   "cell_type": "code",
   "execution_count": 16,
   "metadata": {},
   "outputs": [
    {
     "name": "stdout",
     "output_type": "stream",
     "text": [
      "Number photons transmitted: 780556\n",
      "Percent photons transmitted: 0.780556\n",
      "Theoretical Prediction percent photons transmitted: 0.7805460697811405\n"
     ]
    }
   ],
   "source": [
    "#Let's put an object in the way of the beamsplitters, such that if a photon does cross over,\n",
    "#it is absorbed by the object:\n",
    "N = 10 #number of beamsplitters\n",
    "theta = np.pi/(N) # A measure of the reflectivity of the beamsplitter\n",
    "nphotons = 10**6 #The number of photons we'll send through the system\n",
    "endstate = '0'*N #Now if there is an object blocking the photon's upper path, we require that\n",
    "                #ALL photons stay on the bottom path in order to be detected.\n",
    "                #If our photon stays in the 0 state through all the beamsplitters, we can say that\n",
    "                #it has been transmitted, and we'll see it on our detector as all |0> states.\n",
    "                #Without the object blocking the way, we'll see all |1> states like we did above\n",
    "\n",
    "q = QuantumRegister(1)\n",
    "c = ClassicalRegister(N)\n",
    "circuit = QuantumCircuit(q,c)\n",
    "for i in range(N):\n",
    "    circuit.rx(theta, q[0])\n",
    "    circuit.measure(q[0], c[i])\n",
    "result = execute(circuit, backend=backend, shots = nphotons).result()\n",
    "counts = result.get_counts()\n",
    "ntrans = counts.get(endstate)\n",
    "\n",
    "\n",
    "\n",
    "print('Number photons transmitted:', ntrans)\n",
    "print('Percent photons transmitted:', ntrans/nphotons)\n",
    "print('Theoretical Prediction percent photons transmitted:', (np.cos(theta/2)**2)**N)"
   ]
  },
  {
   "cell_type": "code",
   "execution_count": 17,
   "metadata": {},
   "outputs": [
    {
     "ename": "KeyError",
     "evalue": "0",
     "output_type": "error",
     "traceback": [
      "\u001b[1;31m---------------------------------------------------------------------------\u001b[0m",
      "\u001b[1;31mKeyError\u001b[0m                                  Traceback (most recent call last)",
      "\u001b[1;32m<ipython-input-17-b08ed56ad6c2>\u001b[0m in \u001b[0;36m<module>\u001b[1;34m\u001b[0m\n\u001b[1;32m----> 1\u001b[1;33m \u001b[0mcounts\u001b[0m\u001b[1;33m[\u001b[0m\u001b[1;36m0\u001b[0m\u001b[1;33m]\u001b[0m\u001b[1;33m\u001b[0m\u001b[1;33m\u001b[0m\u001b[0m\n\u001b[0m",
      "\u001b[1;31mKeyError\u001b[0m: 0"
     ]
    }
   ],
   "source": []
  },
  {
   "cell_type": "code",
   "execution_count": 4,
   "metadata": {},
   "outputs": [
    {
     "data": {
      "image/png": "[encoded data removed]",
      "text/plain": [
       "<Figure size 786.212x144.48 with 1 Axes>"
      ]
     },
     "execution_count": 4,
     "metadata": {},
     "output_type": "execute_result"
    }
   ],
   "source": [
    "circuit.draw(output='mpl',filename='circuit.png')"
   ]
  },
  {
   "cell_type": "code",
   "execution_count": null,
   "metadata": {},
   "outputs": [],
   "source": []
  }
 ],
 "metadata": {
  "kernelspec": {
   "display_name": "Python 3",
   "language": "python",
   "name": "python3"
  },
  "language_info": {
   "codemirror_mode": {
    "name": "ipython",
    "version": 3
   },
   "file_extension": ".py",
   "mimetype": "text/x-python",
   "name": "python",
   "nbconvert_exporter": "python",
   "pygments_lexer": "ipython3",
   "version": "3.7.3"
  }
 },
 "nbformat": 4,
 "nbformat_minor": 2
}
